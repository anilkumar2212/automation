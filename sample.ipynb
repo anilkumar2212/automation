{
 "cells": [
  {
   "cell_type": "code",
   "execution_count": 1,
   "metadata": {},
   "outputs": [],
   "source": [
    "import subprocess"
   ]
  },
  {
   "cell_type": "code",
   "execution_count": null,
   "metadata": {},
   "outputs": [],
   "source": []
  },
  {
   "cell_type": "code",
   "execution_count": 3,
   "metadata": {},
   "outputs": [],
   "source": [
    "def dvc_remote(product_name,comments):\n",
    "    dvc_commands = [\n",
    "    f'dvc add data/{product_name}',\n",
    "    f'git add data/{product_name}.dvc',\n",
    "    f'git commit -m \"{comments}\"',\n",
    "    'dvc push',\n",
    "    'git push']\n",
    "    # Run commands in prompt\n",
    "    for cmd in dvc_commands:\n",
    "        #subprocess.run(cmd, shell=True)\n",
    "        print(cmd)"
   ]
  },
  {
   "cell_type": "code",
   "execution_count": 4,
   "metadata": {},
   "outputs": [
    {
     "name": "stdout",
     "output_type": "stream",
     "text": [
      "dvc add data/omail\n",
      "git add data/omail.dvc\n",
      "git commit -m \"omail version added\"\n",
      "dvc push\n",
      "git push\n"
     ]
    }
   ],
   "source": [
    "product_name = \"omail\"\n",
    "comments = \"omail version added\"\n",
    "\n",
    "dvc_remote(product_name,comments)"
   ]
  },
  {
   "cell_type": "code",
   "execution_count": null,
   "metadata": {},
   "outputs": [],
   "source": []
  }
 ],
 "metadata": {
  "kernelspec": {
   "display_name": "automation",
   "language": "python",
   "name": "python3"
  },
  "language_info": {
   "codemirror_mode": {
    "name": "ipython",
    "version": 3
   },
   "file_extension": ".py",
   "mimetype": "text/x-python",
   "name": "python",
   "nbconvert_exporter": "python",
   "pygments_lexer": "ipython3",
   "version": "3.8.0"
  }
 },
 "nbformat": 4,
 "nbformat_minor": 2
}
